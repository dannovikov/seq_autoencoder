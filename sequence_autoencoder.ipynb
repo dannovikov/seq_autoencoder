{
 "nbformat": 4,
 "nbformat_minor": 0,
 "metadata": {
  "colab": {
   "provenance": [],
   "collapsed_sections": [],
   "toc_visible": true
  },
  "kernelspec": {
   "name": "python3",
   "display_name": "Python 3"
  },
  "language_info": {
   "name": "python"
  },
  "accelerator": "GPU",
  "gpuClass": "standard"
 },
 "cells": [
  {
   "cell_type": "code",
   "source": [
    "!wandb login"
   ],
   "metadata": {
    "colab": {
     "base_uri": "https://localhost:8080/"
    },
    "id": "gfsOBmIoLtls",
    "outputId": "f43ff0ee-ab5e-4524-8ee6-9cc49d6a6294",
    "pycharm": {
     "name": "#%%\n"
    }
   },
   "execution_count": 1,
   "outputs": [
    {
     "name": "stderr",
     "output_type": "stream",
     "text": [
      "wandb: Currently logged in as: dannovikov. Use `wandb login --relogin` to force relogin\n"
     ]
    }
   ]
  },
  {
   "cell_type": "code",
   "source": [
    "import wandb"
   ],
   "metadata": {
    "id": "DwzC4yIPMFDy",
    "pycharm": {
     "name": "#%%\n"
    }
   },
   "execution_count": 2,
   "outputs": []
  },
  {
   "cell_type": "code",
   "source": [
    "wandb.init(project=\"seq lin autoencoder\")"
   ],
   "metadata": {
    "colab": {
     "base_uri": "https://localhost:8080/",
     "height": 147
    },
    "id": "5v3974XuMHPt",
    "outputId": "2615b6c0-9b0f-454a-f517-6806b545d019",
    "pycharm": {
     "name": "#%%\n"
    }
   },
   "execution_count": 3,
   "outputs": [
    {
     "name": "stderr",
     "output_type": "stream",
     "text": [
      "\u001B[34m\u001B[1mwandb\u001B[0m: Currently logged in as: \u001B[33mdannovikov\u001B[0m. Use \u001B[1m`wandb login --relogin`\u001B[0m to force relogin\n"
     ]
    },
    {
     "data": {
      "text/plain": "<IPython.core.display.HTML object>",
      "text/html": "Tracking run with wandb version 0.13.2"
     },
     "metadata": {},
     "output_type": "display_data"
    },
    {
     "data": {
      "text/plain": "<IPython.core.display.HTML object>",
      "text/html": "Run data is saved locally in <code>E:\\projects\\seqpredict\\wandb\\run-20220907_042746-35nble4e</code>"
     },
     "metadata": {},
     "output_type": "display_data"
    },
    {
     "data": {
      "text/plain": "<IPython.core.display.HTML object>",
      "text/html": "Syncing run <strong><a href=\"https://wandb.ai/dannovikov/seq%20lin%20autoencoder/runs/35nble4e\" target=\"_blank\">fiery-firefly-52</a></strong> to <a href=\"https://wandb.ai/dannovikov/seq%20lin%20autoencoder\" target=\"_blank\">Weights & Biases</a> (<a href=\"https://wandb.me/run\" target=\"_blank\">docs</a>)<br/>"
     },
     "metadata": {},
     "output_type": "display_data"
    },
    {
     "data": {
      "text/html": "<button onClick=\"this.nextSibling.style.display='block';this.style.display='none';\">Display W&B run</button><iframe src=\"https://wandb.ai/dannovikov/seq%20lin%20autoencoder/runs/35nble4e?jupyter=true\" style=\"border:none;width:100%;height:420px;display:none;\"></iframe>",
      "text/plain": "<wandb.sdk.wandb_run.Run at 0x209ff92dc70>"
     },
     "execution_count": 3,
     "metadata": {},
     "output_type": "execute_result"
    }
   ]
  },
  {
   "cell_type": "code",
   "source": [
    "import os\n",
    "os.getcwd()"
   ],
   "metadata": {
    "colab": {
     "base_uri": "https://localhost:8080/",
     "height": 36
    },
    "id": "kxdSYihlWzlj",
    "outputId": "097c01ad-a1ee-484b-fe21-1698905a4e2b",
    "pycharm": {
     "name": "#%%\n"
    }
   },
   "execution_count": 4,
   "outputs": [
    {
     "data": {
      "text/plain": "'E:\\\\projects\\\\seqpredict'"
     },
     "execution_count": 4,
     "metadata": {},
     "output_type": "execute_result"
    }
   ]
  },
  {
   "cell_type": "code",
   "execution_count": 5,
   "outputs": [
    {
     "name": "stdout",
     "output_type": "stream",
     "text": [
      "cuda\n"
     ]
    }
   ],
   "source": [
    "#This program trains an Autoencoder to reconstruct DNA sequences.\n",
    "\n",
    "import torch\n",
    "import torch.nn as nn\n",
    "import torch.nn.functional as F\n",
    "import numpy as np\n",
    "import sys\n",
    "import seaborn as sns\n",
    "import matplotlib.pyplot as plt\n",
    "from tqdm.notebook import tqdm\n",
    "from tqdm.notebook import trange\n",
    "\n",
    "EPOCHS = 2\n",
    "DEVICE = torch.device('cuda' if torch.cuda.is_available() else 'cpu')\n",
    "print(DEVICE)\n"
   ],
   "metadata": {
    "collapsed": false,
    "pycharm": {
     "name": "#%%\n"
    }
   }
  },
  {
   "cell_type": "code",
   "execution_count": 6,
   "metadata": {
    "colab": {
     "base_uri": "https://localhost:8080/"
    },
    "id": "qCpaDIYOc5KP",
    "outputId": "768e64e5-21d5-4306-86fe-7cdbf8aed6f5",
    "pycharm": {
     "name": "#%%\n"
    }
   },
   "outputs": [],
   "source": [
    "\n",
    "class SequenceAutoencoder(nn.Module):\n",
    "\n",
    "    def __init__(self) -> None:\n",
    "        super().__init__()\n",
    "        self.encoder = nn.Sequential(\n",
    "            #nn.Conv1d(in_channels=5, out_channels=1, kernel_size=1),\n",
    "            #nn.ReLU(),\n",
    "            nn.Linear(29903, 2500),\n",
    "            nn.ReLU(),\n",
    "            nn.Linear(2500, 500),\n",
    "            nn.ReLU(),\n",
    "            nn.Linear(500, 250),\n",
    "            nn.ReLU(),\n",
    "            nn.Linear(250, 3),\n",
    "            nn.ReLU()\n",
    "        )\n",
    "        self.decoder = nn.Sequential(\n",
    "            nn.Linear(3, 250),\n",
    "            nn.ReLU(),\n",
    "            nn.Linear(250, 500),\n",
    "            nn.ReLU(),\n",
    "            nn.Linear(500, 2500),\n",
    "            nn.ReLU(),\n",
    "            nn.Linear(2500, 29903),\n",
    "            #nn.ConvTranspose1d(in_channels=1, out_channels=5, kernel_size=1),\n",
    "            #nn.ReLU(),\n",
    "        )\n",
    "\n",
    "    def forward(self, x):\n",
    "        x = self.encoder(x)\n",
    "        x = self.decoder(x)\n",
    "        # x = torch.argmax(x, dim = 1)\n",
    "        return x\n",
    "\n",
    "\n",
    "def create_seqs_dict(fasta):\n",
    "    \"\"\"\n",
    "    From a fasta file, the function builds a dictionary {label:sequence}.\n",
    "    In fasta format, the even # lines are labels that start with \">\",\n",
    "    the odd # lines are sequences.\n",
    "    \"\"\"\n",
    "    seqs = {}\n",
    "    with open(fasta, \"r\") as f:\n",
    "        last_label = \"\"\n",
    "        for line, text in enumerate(f):\n",
    "            if line % 2 == 0:  # is label\n",
    "                # Create new entry in dictionary for upcoming sequence\n",
    "                seqs[text.strip()[1:]] = \"\"\n",
    "                last_label = text.strip()[1:]\n",
    "            else:\n",
    "                # Add sequence to newly created entry\n",
    "                seqs[last_label] = text.strip()\n",
    "    return seqs\n",
    "\n",
    "\n",
    "def create_seqs_matrix(seqs, SEQ_LEN):\n",
    "    \"\"\"\n",
    "    ONE-HOT ENCODING\n",
    "    seqs is a dict mapping id:sequence\n",
    "    return N x M x 5 tensor where each row is a M x 5 one-hot encoding of an M-length sequence\n",
    "    \"\"\"\n",
    "    seqs_m = np.zeros(shape=(len(seqs), SEQ_LEN, 5))\n",
    "    seqs_index = {}\n",
    "    # for i, seq_id in enumerate(tqdm(seqs)):\n",
    "    for i, seq_id in enumerate(seqs):\n",
    "        seqs_index[seq_id] = i\n",
    "        for j, raw_nucl in enumerate(seqs[seq_id]):\n",
    "            nucl = raw_nucl.upper()\n",
    "            if nucl == \"A\":\n",
    "                seqs_m[i][j][0] = 1\n",
    "            elif nucl == \"C\":\n",
    "                seqs_m[i][j][1] = 1\n",
    "            elif nucl == \"T\":\n",
    "                seqs_m[i][j][2] = 1\n",
    "            elif nucl == \"G\":\n",
    "                seqs_m[i][j][3] = 1\n",
    "            else:\n",
    "                assert nucl == \"-\" or nucl == \"N\", f\"nucl: {nucl}\"\n",
    "                seqs_m[i][j][4] = 1\n",
    "    return seqs_m, seqs_index\n"
   ]
  },
  {
   "cell_type": "code",
   "execution_count": 6,
   "outputs": [],
   "source": [],
   "metadata": {
    "collapsed": false,
    "pycharm": {
     "name": "#%%\n"
    }
   }
  },
  {
   "cell_type": "code",
   "execution_count": 7,
   "outputs": [],
   "source": [
    "def hamdist(a, b):\n",
    "    d = 0\n",
    "    for i in range(len(a)):\n",
    "        if a[i] != 'N' and b[i] != 'N':\n",
    "            if a[i] != b[i]:\n",
    "                d += 1\n",
    "    return d"
   ],
   "metadata": {
    "collapsed": false,
    "pycharm": {
     "name": "#%%\n"
    }
   }
  },
  {
   "cell_type": "code",
   "execution_count": 8,
   "outputs": [],
   "source": [
    "def argmax_to_actg(am_seq):\n",
    "    out_seq = ''\n",
    "    for i in range(am_seq.shape[0]):\n",
    "        x = am_seq[i]\n",
    "        if x == 0:\n",
    "            out_seq += 'A'\n",
    "        elif x == 1:\n",
    "            out_seq += 'C'\n",
    "        elif x == 2:\n",
    "            out_seq += 'T'\n",
    "        elif x == 3:\n",
    "            out_seq += 'G'\n",
    "        else:\n",
    "            assert x == 4\n",
    "            out_seq += 'N'\n",
    "    return out_seq"
   ],
   "metadata": {
    "collapsed": false,
    "pycharm": {
     "name": "#%%\n"
    }
   }
  },
  {
   "cell_type": "code",
   "execution_count": 9,
   "outputs": [],
   "source": [
    "def ohe_to_actg(ohe_seq):\n",
    "    #seq shape = 1, L, 5\n",
    "    #for each nucl vector in L\n",
    "    #convert nucl vector to corresponding nucl\n",
    "    seq = ''\n",
    "    for i in range(ohe_seq.shape[0]):\n",
    "        nucl = ohe_seq[i]\n",
    "        if nucl[0] == 1:\n",
    "            seq += 'A'\n",
    "        elif nucl[1] == 1:\n",
    "            seq += 'C'\n",
    "        elif nucl[2] == 1:\n",
    "            seq += 'T'\n",
    "        elif nucl[3] == 1:\n",
    "            seq += 'G'\n",
    "        else:\n",
    "            assert nucl[4] == 1\n",
    "            seq += 'N'\n",
    "    return seq\n"
   ],
   "metadata": {
    "collapsed": false,
    "pycharm": {
     "name": "#%%\n"
    }
   }
  },
  {
   "cell_type": "code",
   "execution_count": 10,
   "outputs": [],
   "source": [
    "\n",
    "def HammingDistanceMetric(batch, out):\n",
    "    assert batch.shape == out.shape\n",
    "    distance = 0\n",
    "    for i in range(batch.shape[0]):\n",
    "        input, output = batch[i], out[i]\n",
    "        input = ohe_to_actg(input.permute(1,0))\n",
    "        output = argmax_to_actg(torch.argmax(output.permute(1,0), dim=1))\n",
    "        distance += hamdist(input, output)\n",
    "    return distance / batch.shape[0]\n",
    "\n"
   ],
   "metadata": {
    "collapsed": false,
    "pycharm": {
     "name": "#%%\n"
    }
   }
  },
  {
   "cell_type": "code",
   "execution_count": 11,
   "outputs": [
    {
     "name": "stdout",
     "output_type": "stream",
     "text": [
      "BEGIN\n"
     ]
    },
    {
     "data": {
      "text/plain": "  0%|          | 0/2 [00:00<?, ?it/s]",
      "application/vnd.jupyter.widget-view+json": {
       "version_major": 2,
       "version_minor": 0,
       "model_id": "8cf5fc98ca7f47c68fbd03165ca42a10"
      }
     },
     "metadata": {},
     "output_type": "display_data"
    },
    {
     "data": {
      "text/plain": "  0%|          | 0/352 [00:00<?, ?it/s]",
      "application/vnd.jupyter.widget-view+json": {
       "version_major": 2,
       "version_minor": 0,
       "model_id": "7d7cbf98a5274c3f83de164fec445a51"
      }
     },
     "metadata": {},
     "output_type": "display_data"
    },
    {
     "name": "stdout",
     "output_type": "stream",
     "text": [
      "model saved with  1.0283179046078161 loss on epoch 0\n"
     ]
    },
    {
     "data": {
      "text/plain": "  0%|          | 0/352 [00:00<?, ?it/s]",
      "application/vnd.jupyter.widget-view+json": {
       "version_major": 2,
       "version_minor": 0,
       "model_id": "a8a9c881061f4fc0bf37808653b9f642"
      }
     },
     "metadata": {},
     "output_type": "display_data"
    },
    {
     "name": "stdout",
     "output_type": "stream",
     "text": [
      "model saved with  0.42330769974399696 loss on epoch 1\n",
      "[1.4730634195048635, 0.7168599857789714]\n",
      "[1.0283179046078161, 0.42330769974399696]\n"
     ]
    },
    {
     "data": {
      "text/plain": "<Figure size 432x288 with 2 Axes>",
      "image/png": "[encoded data removed]"
     },
     "metadata": {},
     "output_type": "display_data"
    }
   ],
   "source": [
    "\n",
    "if __name__ == '__main__':\n",
    "\n",
    "    fasta_file = 'f22_n.fasta'\n",
    "\n",
    "    seqs_d = create_seqs_dict(fasta_file)\n",
    "    # print('created seqs dict', flush=True)\n",
    "    seq_len = len(seqs_d[list(seqs_d.keys())[0]])\n",
    "    seqs_m, seqs_index = create_seqs_matrix(seqs_d, SEQ_LEN=seq_len) # one-hot encoding\n",
    "    # print('done - seqs matrix', flush=True)\n",
    "    seqs_t = torch.from_numpy(seqs_m).float()\n",
    "    # print('done - seqs tensor', flush=True)\n",
    "    del seqs_m\n",
    "    del seqs_index\n",
    "    del seqs_d\n",
    "    # print('previous variables deleted', flush=True)\n",
    "    seqs_t = seqs_t.permute(0,2,1)\n",
    "    seqs_ds = torch.utils.data.TensorDataset(seqs_t)\n",
    "    del seqs_t\n",
    "    # print('tensor dataset created and seqs_t deleted')\n",
    "    #\n",
    "    N = len(seqs_ds)\n",
    "    train_ds, test_ds = torch.utils.data.random_split(seqs_ds, [int(0.7*N), N - int(0.7*N)], generator=torch.Generator().manual_seed(42))\n",
    "    # print('random split done', flush=True)\n",
    "    train_dl = torch.utils.data.DataLoader(train_ds, batch_size=10, shuffle=True,pin_memory=True)\n",
    "    test_dl = torch.utils.data.DataLoader(test_ds, batch_size=1, shuffle=False,pin_memory=True)\n",
    "    # print('created data loaders', flush=True)\n",
    "\n",
    "\n",
    "    model = SequenceAutoencoder()\n",
    "    #model.load_state_dict(torch.load('linseqae.m'))\n",
    "    optimizer = torch.optim.Adam(model.parameters(), lr = 1e-5)\n",
    "    criterion = nn.CrossEntropyLoss()\n",
    "    scheduler = torch.optim.lr_scheduler.ReduceLROnPlateau(optimizer=optimizer, verbose=True, factor=0.1, threshold=0.01)\n",
    "\n",
    "    model.to(DEVICE)\n",
    "\n",
    "    min_loss = float('inf')\n",
    "    trl = [] #training losses\n",
    "    tsl = [] #testing losses\n",
    "    tshd = [] #testing hamming distances\n",
    "    print('BEGIN', flush=True)\n",
    "    for epoch in tqdm(range(EPOCHS)):\n",
    "        train_losses = []\n",
    "        val_losses = []\n",
    "        val_hamdists = []\n",
    "        # train\n",
    "        for idx, batch in enumerate(train_dl):\n",
    "            # seq = torch.tensor(batch[0])\n",
    "            seq = batch[0]\n",
    "            seq = seq.to(DEVICE)\n",
    "            optimizer.zero_grad()\n",
    "            out = model(seq)\n",
    "            loss = criterion(out, seq)\n",
    "            train_losses.append(loss.item())\n",
    "            loss.backward()\n",
    "            optimizer.step()\n",
    "        # validate\n",
    "        with torch.no_grad():\n",
    "            for idx,batch in enumerate(test_dl):\n",
    "                # seq = torch.tensor(batch[0])\n",
    "                seq = batch[0]\n",
    "                seq = seq.to(DEVICE)\n",
    "                out = model(seq)\n",
    "                loss = criterion(out, seq)\n",
    "                val_losses.append(loss.item())\n",
    "                #val_hamdists.append(HammingDistanceMetric(seq, out))\n",
    "        # Collect resultsS\n",
    "        trl.append(sum(train_losses)/len(train_dl))\n",
    "        tsl.append(sum(val_losses)/len(test_dl))\n",
    "        #tshd.append(sum(val_hamdists)/len(test_dl))\n",
    "        wandb.log({'train_loss': trl[-1], 'test_loss': tsl[-1]})#, 'test_hamming': tshd[-1]})\n",
    "        scheduler.step(tsl[-1])\n",
    "        # save best model\n",
    "        if tsl[-1] < min_loss:\n",
    "            min_loss = tsl[-1]\n",
    "            print('model saved with ', min_loss, 'loss on epoch', epoch,flush=True)\n",
    "            torch.save(model.state_dict(), './linseqae.m')\n",
    "\n",
    "\n",
    "    print(trl)\n",
    "    print(tsl)\n",
    "    fig, axs = plt.subplots(1,2)\n",
    "    plt.title('train_loss')\n",
    "    axs[0].plot(trl)\n",
    "    axs[0].set_title('train loss')\n",
    "    axs[1].plot(tsl)\n",
    "    axs[1].set_title('test loss')\n",
    "\n"
   ],
   "metadata": {
    "collapsed": false,
    "pycharm": {
     "name": "#%%\n"
    }
   }
  },
  {
   "cell_type": "code",
   "execution_count": 12,
   "outputs": [],
   "source": [
    "test = next(iter(test_dl))[0]"
   ],
   "metadata": {
    "collapsed": false,
    "pycharm": {
     "name": "#%%\n"
    }
   }
  },
  {
   "cell_type": "code",
   "execution_count": 12,
   "outputs": [],
   "source": [],
   "metadata": {
    "collapsed": false,
    "pycharm": {
     "name": "#%%\n"
    }
   }
  },
  {
   "cell_type": "code",
   "execution_count": 13,
   "outputs": [],
   "source": [
    "test = test.to(DEVICE)\n",
    "out = model(test)"
   ],
   "metadata": {
    "collapsed": false,
    "pycharm": {
     "name": "#%%\n"
    }
   }
  },
  {
   "cell_type": "code",
   "execution_count": 14,
   "outputs": [
    {
     "data": {
      "text/plain": "torch.Size([1, 5, 29903])"
     },
     "execution_count": 14,
     "metadata": {},
     "output_type": "execute_result"
    }
   ],
   "source": [
    "out.shape"
   ],
   "metadata": {
    "collapsed": false,
    "pycharm": {
     "name": "#%%\n"
    }
   }
  },
  {
   "cell_type": "code",
   "execution_count": 15,
   "outputs": [
    {
     "data": {
      "text/plain": "torch.Size([1, 29903, 5])"
     },
     "execution_count": 15,
     "metadata": {},
     "output_type": "execute_result"
    }
   ],
   "source": [
    "test = test.permute(0,2,1)\n",
    "test.shape"
   ],
   "metadata": {
    "collapsed": false,
    "pycharm": {
     "name": "#%%\n"
    }
   }
  },
  {
   "cell_type": "code",
   "execution_count": 16,
   "outputs": [
    {
     "ename": "RuntimeError",
     "evalue": "Boolean value of Tensor with more than one value is ambiguous",
     "output_type": "error",
     "traceback": [
      "\u001B[1;31m---------------------------------------------------------------------------\u001B[0m",
      "\u001B[1;31mRuntimeError\u001B[0m                              Traceback (most recent call last)",
      "Input \u001B[1;32mIn [16]\u001B[0m, in \u001B[0;36m<cell line: 1>\u001B[1;34m()\u001B[0m\n\u001B[1;32m----> 1\u001B[0m x \u001B[38;5;241m=\u001B[39m \u001B[43mohe_to_actg\u001B[49m\u001B[43m(\u001B[49m\u001B[43mtest\u001B[49m\u001B[43m)\u001B[49m\n",
      "Input \u001B[1;32mIn [9]\u001B[0m, in \u001B[0;36mohe_to_actg\u001B[1;34m(ohe_seq)\u001B[0m\n\u001B[0;32m      6\u001B[0m \u001B[38;5;28;01mfor\u001B[39;00m i \u001B[38;5;129;01min\u001B[39;00m \u001B[38;5;28mrange\u001B[39m(ohe_seq\u001B[38;5;241m.\u001B[39mshape[\u001B[38;5;241m0\u001B[39m]):\n\u001B[0;32m      7\u001B[0m     nucl \u001B[38;5;241m=\u001B[39m ohe_seq[i]\n\u001B[1;32m----> 8\u001B[0m     \u001B[38;5;28;01mif\u001B[39;00m \u001B[43mnucl\u001B[49m\u001B[43m[\u001B[49m\u001B[38;5;241;43m0\u001B[39;49m\u001B[43m]\u001B[49m\u001B[43m \u001B[49m\u001B[38;5;241;43m==\u001B[39;49m\u001B[43m \u001B[49m\u001B[38;5;241;43m1\u001B[39;49m:\n\u001B[0;32m      9\u001B[0m         seq \u001B[38;5;241m+\u001B[39m\u001B[38;5;241m=\u001B[39m \u001B[38;5;124m'\u001B[39m\u001B[38;5;124mA\u001B[39m\u001B[38;5;124m'\u001B[39m\n\u001B[0;32m     10\u001B[0m     \u001B[38;5;28;01melif\u001B[39;00m nucl[\u001B[38;5;241m1\u001B[39m] \u001B[38;5;241m==\u001B[39m \u001B[38;5;241m1\u001B[39m:\n",
      "\u001B[1;31mRuntimeError\u001B[0m: Boolean value of Tensor with more than one value is ambiguous"
     ]
    }
   ],
   "source": [
    "x = ohe_to_actg(test)"
   ],
   "metadata": {
    "collapsed": false,
    "pycharm": {
     "name": "#%%\n"
    }
   }
  },
  {
   "cell_type": "code",
   "execution_count": null,
   "outputs": [],
   "source": [
    "len(x)"
   ],
   "metadata": {
    "collapsed": false,
    "pycharm": {
     "name": "#%%\n"
    }
   }
  },
  {
   "cell_type": "code",
   "execution_count": null,
   "outputs": [],
   "source": [],
   "metadata": {
    "collapsed": false,
    "pycharm": {
     "name": "#%%\n"
    }
   }
  },
  {
   "cell_type": "code",
   "execution_count": null,
   "outputs": [],
   "source": [
    "out = out.cpu()\n",
    "out = out.permute(0, 2, 1)"
   ],
   "metadata": {
    "collapsed": false,
    "pycharm": {
     "name": "#%%\n"
    }
   }
  },
  {
   "cell_type": "code",
   "execution_count": null,
   "outputs": [],
   "source": [
    "out.shape"
   ],
   "metadata": {
    "collapsed": false,
    "pycharm": {
     "name": "#%%\n"
    }
   }
  },
  {
   "cell_type": "code",
   "execution_count": null,
   "outputs": [],
   "source": [
    "out = torch.argmax(out, dim=2)"
   ],
   "metadata": {
    "collapsed": false,
    "pycharm": {
     "name": "#%%\n"
    }
   }
  },
  {
   "cell_type": "code",
   "execution_count": null,
   "outputs": [],
   "source": [
    "len(out[0])"
   ],
   "metadata": {
    "collapsed": false,
    "pycharm": {
     "name": "#%%\n"
    }
   }
  },
  {
   "cell_type": "code",
   "execution_count": null,
   "outputs": [],
   "source": [
    "out"
   ],
   "metadata": {
    "collapsed": false,
    "pycharm": {
     "name": "#%%\n"
    }
   }
  },
  {
   "cell_type": "code",
   "execution_count": null,
   "outputs": [],
   "source": [
    "x"
   ],
   "metadata": {
    "collapsed": false,
    "pycharm": {
     "name": "#%%\n"
    }
   }
  },
  {
   "cell_type": "code",
   "execution_count": null,
   "outputs": [],
   "source": [
    "y = argmax_to_actg(out)"
   ],
   "metadata": {
    "collapsed": false,
    "pycharm": {
     "name": "#%%\n"
    }
   }
  },
  {
   "cell_type": "code",
   "execution_count": null,
   "outputs": [],
   "source": [
    "y"
   ],
   "metadata": {
    "collapsed": false,
    "pycharm": {
     "name": "#%%\n"
    }
   }
  },
  {
   "cell_type": "code",
   "source": [
    "f\"Autoencoding Hamming distance: {hamdist(x, y)}/29903\""
   ],
   "metadata": {
    "id": "hPZ8GTjx8_LF",
    "pycharm": {
     "name": "#%%\n"
    }
   },
   "execution_count": null,
   "outputs": []
  },
  {
   "cell_type": "code",
   "execution_count": null,
   "outputs": [],
   "source": [
    "#Just linear and relu layers give us nice sequences!"
   ],
   "metadata": {
    "collapsed": false,
    "pycharm": {
     "name": "#%%\n"
    }
   }
  },
  {
   "cell_type": "code",
   "execution_count": null,
   "outputs": [],
   "source": [
    "#omg"
   ],
   "metadata": {
    "collapsed": false,
    "pycharm": {
     "name": "#%%\n"
    }
   }
  },
  {
   "cell_type": "code",
   "execution_count": null,
   "outputs": [],
   "source": [
    "#That's a nice looking sequence reconstruction"
   ],
   "metadata": {
    "collapsed": false,
    "pycharm": {
     "name": "#%%\n"
    }
   }
  },
  {
   "cell_type": "code",
   "execution_count": null,
   "outputs": [],
   "source": [],
   "metadata": {
    "collapsed": false,
    "pycharm": {
     "name": "#%%\n"
    }
   }
  },
  {
   "cell_type": "code",
   "execution_count": null,
   "outputs": [],
   "source": [],
   "metadata": {
    "collapsed": false,
    "pycharm": {
     "name": "#%%\n"
    }
   }
  }
 ]
}